{
 "cells": [
  {
   "cell_type": "markdown",
   "id": "950c8fda",
   "metadata": {},
   "source": [
    "# Level 2\n",
    "## Task 1- Table Booking and Online Delivery"
   ]
  },
  {
   "cell_type": "markdown",
   "id": "a8a1a255",
   "metadata": {},
   "source": [
    "### Import libraries and read the dataset"
   ]
  },
  {
   "cell_type": "code",
   "execution_count": 2,
   "id": "cef8016d",
   "metadata": {},
   "outputs": [],
   "source": [
    "import pandas as pd\n",
    "import numpy as np\n",
    "import matplotlib.pyplot as plt\n",
    "import seaborn as sns"
   ]
  },
  {
   "cell_type": "code",
   "execution_count": 3,
   "id": "d42e8e46",
   "metadata": {},
   "outputs": [],
   "source": [
    "df=pd.read_csv(\"Dataset.csv\")"
   ]
  },
  {
   "cell_type": "code",
   "execution_count": 4,
   "id": "6184ca7e",
   "metadata": {},
   "outputs": [
    {
     "data": {
      "text/html": [
       "<div>\n",
       "<style scoped>\n",
       "    .dataframe tbody tr th:only-of-type {\n",
       "        vertical-align: middle;\n",
       "    }\n",
       "\n",
       "    .dataframe tbody tr th {\n",
       "        vertical-align: top;\n",
       "    }\n",
       "\n",
       "    .dataframe thead th {\n",
       "        text-align: right;\n",
       "    }\n",
       "</style>\n",
       "<table border=\"1\" class=\"dataframe\">\n",
       "  <thead>\n",
       "    <tr style=\"text-align: right;\">\n",
       "      <th></th>\n",
       "      <th>Restaurant ID</th>\n",
       "      <th>Restaurant Name</th>\n",
       "      <th>Country Code</th>\n",
       "      <th>City</th>\n",
       "      <th>Address</th>\n",
       "      <th>Locality</th>\n",
       "      <th>Locality Verbose</th>\n",
       "      <th>Longitude</th>\n",
       "      <th>Latitude</th>\n",
       "      <th>Cuisines</th>\n",
       "      <th>...</th>\n",
       "      <th>Currency</th>\n",
       "      <th>Has Table booking</th>\n",
       "      <th>Has Online delivery</th>\n",
       "      <th>Is delivering now</th>\n",
       "      <th>Switch to order menu</th>\n",
       "      <th>Price range</th>\n",
       "      <th>Aggregate rating</th>\n",
       "      <th>Rating color</th>\n",
       "      <th>Rating text</th>\n",
       "      <th>Votes</th>\n",
       "    </tr>\n",
       "  </thead>\n",
       "  <tbody>\n",
       "    <tr>\n",
       "      <th>0</th>\n",
       "      <td>6317637</td>\n",
       "      <td>Le Petit Souffle</td>\n",
       "      <td>162</td>\n",
       "      <td>Makati City</td>\n",
       "      <td>Third Floor, Century City Mall, Kalayaan Avenu...</td>\n",
       "      <td>Century City Mall, Poblacion, Makati City</td>\n",
       "      <td>Century City Mall, Poblacion, Makati City, Mak...</td>\n",
       "      <td>121.027535</td>\n",
       "      <td>14.565443</td>\n",
       "      <td>French, Japanese, Desserts</td>\n",
       "      <td>...</td>\n",
       "      <td>Botswana Pula(P)</td>\n",
       "      <td>Yes</td>\n",
       "      <td>No</td>\n",
       "      <td>No</td>\n",
       "      <td>No</td>\n",
       "      <td>3</td>\n",
       "      <td>4.8</td>\n",
       "      <td>Dark Green</td>\n",
       "      <td>Excellent</td>\n",
       "      <td>314</td>\n",
       "    </tr>\n",
       "    <tr>\n",
       "      <th>1</th>\n",
       "      <td>6304287</td>\n",
       "      <td>Izakaya Kikufuji</td>\n",
       "      <td>162</td>\n",
       "      <td>Makati City</td>\n",
       "      <td>Little Tokyo, 2277 Chino Roces Avenue, Legaspi...</td>\n",
       "      <td>Little Tokyo, Legaspi Village, Makati City</td>\n",
       "      <td>Little Tokyo, Legaspi Village, Makati City, Ma...</td>\n",
       "      <td>121.014101</td>\n",
       "      <td>14.553708</td>\n",
       "      <td>Japanese</td>\n",
       "      <td>...</td>\n",
       "      <td>Botswana Pula(P)</td>\n",
       "      <td>Yes</td>\n",
       "      <td>No</td>\n",
       "      <td>No</td>\n",
       "      <td>No</td>\n",
       "      <td>3</td>\n",
       "      <td>4.5</td>\n",
       "      <td>Dark Green</td>\n",
       "      <td>Excellent</td>\n",
       "      <td>591</td>\n",
       "    </tr>\n",
       "    <tr>\n",
       "      <th>2</th>\n",
       "      <td>6300002</td>\n",
       "      <td>Heat - Edsa Shangri-La</td>\n",
       "      <td>162</td>\n",
       "      <td>Mandaluyong City</td>\n",
       "      <td>Edsa Shangri-La, 1 Garden Way, Ortigas, Mandal...</td>\n",
       "      <td>Edsa Shangri-La, Ortigas, Mandaluyong City</td>\n",
       "      <td>Edsa Shangri-La, Ortigas, Mandaluyong City, Ma...</td>\n",
       "      <td>121.056831</td>\n",
       "      <td>14.581404</td>\n",
       "      <td>Seafood, Asian, Filipino, Indian</td>\n",
       "      <td>...</td>\n",
       "      <td>Botswana Pula(P)</td>\n",
       "      <td>Yes</td>\n",
       "      <td>No</td>\n",
       "      <td>No</td>\n",
       "      <td>No</td>\n",
       "      <td>4</td>\n",
       "      <td>4.4</td>\n",
       "      <td>Green</td>\n",
       "      <td>Very Good</td>\n",
       "      <td>270</td>\n",
       "    </tr>\n",
       "    <tr>\n",
       "      <th>3</th>\n",
       "      <td>6318506</td>\n",
       "      <td>Ooma</td>\n",
       "      <td>162</td>\n",
       "      <td>Mandaluyong City</td>\n",
       "      <td>Third Floor, Mega Fashion Hall, SM Megamall, O...</td>\n",
       "      <td>SM Megamall, Ortigas, Mandaluyong City</td>\n",
       "      <td>SM Megamall, Ortigas, Mandaluyong City, Mandal...</td>\n",
       "      <td>121.056475</td>\n",
       "      <td>14.585318</td>\n",
       "      <td>Japanese, Sushi</td>\n",
       "      <td>...</td>\n",
       "      <td>Botswana Pula(P)</td>\n",
       "      <td>No</td>\n",
       "      <td>No</td>\n",
       "      <td>No</td>\n",
       "      <td>No</td>\n",
       "      <td>4</td>\n",
       "      <td>4.9</td>\n",
       "      <td>Dark Green</td>\n",
       "      <td>Excellent</td>\n",
       "      <td>365</td>\n",
       "    </tr>\n",
       "    <tr>\n",
       "      <th>4</th>\n",
       "      <td>6314302</td>\n",
       "      <td>Sambo Kojin</td>\n",
       "      <td>162</td>\n",
       "      <td>Mandaluyong City</td>\n",
       "      <td>Third Floor, Mega Atrium, SM Megamall, Ortigas...</td>\n",
       "      <td>SM Megamall, Ortigas, Mandaluyong City</td>\n",
       "      <td>SM Megamall, Ortigas, Mandaluyong City, Mandal...</td>\n",
       "      <td>121.057508</td>\n",
       "      <td>14.584450</td>\n",
       "      <td>Japanese, Korean</td>\n",
       "      <td>...</td>\n",
       "      <td>Botswana Pula(P)</td>\n",
       "      <td>Yes</td>\n",
       "      <td>No</td>\n",
       "      <td>No</td>\n",
       "      <td>No</td>\n",
       "      <td>4</td>\n",
       "      <td>4.8</td>\n",
       "      <td>Dark Green</td>\n",
       "      <td>Excellent</td>\n",
       "      <td>229</td>\n",
       "    </tr>\n",
       "  </tbody>\n",
       "</table>\n",
       "<p>5 rows × 21 columns</p>\n",
       "</div>"
      ],
      "text/plain": [
       "   Restaurant ID         Restaurant Name  Country Code              City   \n",
       "0        6317637        Le Petit Souffle           162       Makati City  \\\n",
       "1        6304287        Izakaya Kikufuji           162       Makati City   \n",
       "2        6300002  Heat - Edsa Shangri-La           162  Mandaluyong City   \n",
       "3        6318506                    Ooma           162  Mandaluyong City   \n",
       "4        6314302             Sambo Kojin           162  Mandaluyong City   \n",
       "\n",
       "                                             Address   \n",
       "0  Third Floor, Century City Mall, Kalayaan Avenu...  \\\n",
       "1  Little Tokyo, 2277 Chino Roces Avenue, Legaspi...   \n",
       "2  Edsa Shangri-La, 1 Garden Way, Ortigas, Mandal...   \n",
       "3  Third Floor, Mega Fashion Hall, SM Megamall, O...   \n",
       "4  Third Floor, Mega Atrium, SM Megamall, Ortigas...   \n",
       "\n",
       "                                     Locality   \n",
       "0   Century City Mall, Poblacion, Makati City  \\\n",
       "1  Little Tokyo, Legaspi Village, Makati City   \n",
       "2  Edsa Shangri-La, Ortigas, Mandaluyong City   \n",
       "3      SM Megamall, Ortigas, Mandaluyong City   \n",
       "4      SM Megamall, Ortigas, Mandaluyong City   \n",
       "\n",
       "                                    Locality Verbose   Longitude   Latitude   \n",
       "0  Century City Mall, Poblacion, Makati City, Mak...  121.027535  14.565443  \\\n",
       "1  Little Tokyo, Legaspi Village, Makati City, Ma...  121.014101  14.553708   \n",
       "2  Edsa Shangri-La, Ortigas, Mandaluyong City, Ma...  121.056831  14.581404   \n",
       "3  SM Megamall, Ortigas, Mandaluyong City, Mandal...  121.056475  14.585318   \n",
       "4  SM Megamall, Ortigas, Mandaluyong City, Mandal...  121.057508  14.584450   \n",
       "\n",
       "                           Cuisines  ...          Currency Has Table booking   \n",
       "0        French, Japanese, Desserts  ...  Botswana Pula(P)               Yes  \\\n",
       "1                          Japanese  ...  Botswana Pula(P)               Yes   \n",
       "2  Seafood, Asian, Filipino, Indian  ...  Botswana Pula(P)               Yes   \n",
       "3                   Japanese, Sushi  ...  Botswana Pula(P)                No   \n",
       "4                  Japanese, Korean  ...  Botswana Pula(P)               Yes   \n",
       "\n",
       "  Has Online delivery Is delivering now Switch to order menu Price range   \n",
       "0                  No                No                   No           3  \\\n",
       "1                  No                No                   No           3   \n",
       "2                  No                No                   No           4   \n",
       "3                  No                No                   No           4   \n",
       "4                  No                No                   No           4   \n",
       "\n",
       "   Aggregate rating  Rating color Rating text Votes  \n",
       "0               4.8    Dark Green   Excellent   314  \n",
       "1               4.5    Dark Green   Excellent   591  \n",
       "2               4.4         Green   Very Good   270  \n",
       "3               4.9    Dark Green   Excellent   365  \n",
       "4               4.8    Dark Green   Excellent   229  \n",
       "\n",
       "[5 rows x 21 columns]"
      ]
     },
     "execution_count": 4,
     "metadata": {},
     "output_type": "execute_result"
    }
   ],
   "source": [
    "df.head(5)"
   ]
  },
  {
   "cell_type": "markdown",
   "id": "6e755999",
   "metadata": {},
   "source": [
    "### Determine the percentage of restaurants that offer table booking and online delivery"
   ]
  },
  {
   "cell_type": "code",
   "execution_count": 5,
   "id": "896eaecd",
   "metadata": {},
   "outputs": [
    {
     "name": "stdout",
     "output_type": "stream",
     "text": [
      "Restaurant offering table booking in %:  Has Table booking\n",
      "No     0.878756\n",
      "Yes    0.121244\n",
      "Name: proportion, dtype: float64\n",
      "\n",
      "Restaurant offering online delivery in %:  Has Online delivery\n",
      "No     0.743378\n",
      "Yes    0.256622\n",
      "Name: proportion, dtype: float64\n"
     ]
    }
   ],
   "source": [
    "percentage_table_booking=(df['Has Table booking'].value_counts(normalize =True))\n",
    "percentage_online_delivery =(df['Has Online delivery'].value_counts(normalize=True))\n",
    "\n",
    "print(\"Restaurant offering table booking in %: \",percentage_table_booking)\n",
    "print(\"\\nRestaurant offering online delivery in %: \",percentage_online_delivery)"
   ]
  },
  {
   "cell_type": "markdown",
   "id": "071b1887",
   "metadata": {},
   "source": [
    "### Compare the average rating of restaurants with table booking and those without:"
   ]
  },
  {
   "cell_type": "code",
   "execution_count": 6,
   "id": "6f2374e7",
   "metadata": {},
   "outputs": [
    {
     "data": {
      "text/plain": [
       "Has Table booking\n",
       "No     2.559359\n",
       "Yes    3.441969\n",
       "Name: Aggregate rating, dtype: float64"
      ]
     },
     "execution_count": 6,
     "metadata": {},
     "output_type": "execute_result"
    }
   ],
   "source": [
    "table_booking_average_ratings=df.groupby('Has Table booking')['Aggregate rating'].mean()\n",
    "table_booking_average_ratings"
   ]
  },
  {
   "cell_type": "markdown",
   "id": "82312398",
   "metadata": {},
   "source": [
    "### Analyze the availability of online delivery among restaurants with different price ranges."
   ]
  },
  {
   "cell_type": "code",
   "execution_count": 8,
   "id": "da08cc6b",
   "metadata": {},
   "outputs": [
    {
     "name": "stdout",
     "output_type": "stream",
     "text": [
      "Percentage of restaurants offering online delivery by price range: \n",
      "Price range  Has Online delivery\n",
      "1            No                     84.225923\n",
      "             Yes                    15.774077\n",
      "2            No                     58.689367\n",
      "             Yes                    41.310633\n",
      "3            No                     70.809659\n",
      "             Yes                    29.190341\n",
      "4            No                     90.955631\n",
      "             Yes                     9.044369\n",
      "Name: proportion, dtype: float64\n"
     ]
    }
   ],
   "source": [
    "price_range_groups=df.groupby('Price range')\n",
    "online_delivery_percent_by_price_range=(price_range_groups['Has Online delivery'].value_counts(normalize=True) * 100)\n",
    "print(\"Percentage of restaurants offering online delivery by price range: \")\n",
    "print(online_delivery_percent_by_price_range)"
   ]
  },
  {
   "cell_type": "markdown",
   "id": "d7b33ee9",
   "metadata": {},
   "source": [
    "## Task 2- Price Range Analysi\n",
    "### Determine the most common price range among all the restaurants."
   ]
  },
  {
   "cell_type": "code",
   "execution_count": 10,
   "id": "c6ed96c0",
   "metadata": {},
   "outputs": [
    {
     "name": "stdout",
     "output_type": "stream",
     "text": [
      "The most common price range among all the restaurants is: 1\n"
     ]
    }
   ],
   "source": [
    "price_range_counts=df['Price range'].value_counts()\n",
    "most_common_price_range = price_range_counts.idxmax()\n",
    "\n",
    "print(\"The most common price range among all the restaurants is:\", most_common_price_range)"
   ]
  },
  {
   "cell_type": "markdown",
   "id": "824cee0b",
   "metadata": {},
   "source": [
    "### Calculate the average rating for each price range"
   ]
  },
  {
   "cell_type": "code",
   "execution_count": 11,
   "id": "711ffe2f",
   "metadata": {},
   "outputs": [
    {
     "name": "stdout",
     "output_type": "stream",
     "text": [
      "Average rating for each price range:\n",
      "Price range\n",
      "1    1.999887\n",
      "2    2.941054\n",
      "3    3.683381\n",
      "4    3.817918\n",
      "Name: Aggregate rating, dtype: float64\n"
     ]
    }
   ],
   "source": [
    "average_rating_by_price_range = df.groupby('Price range')['Aggregate rating'].mean()\n",
    "\n",
    "print(\"Average rating for each price range:\")\n",
    "print(average_rating_by_price_range)"
   ]
  },
  {
   "cell_type": "markdown",
   "id": "2b24be24",
   "metadata": {},
   "source": [
    "### Identify the color that represents the highest average rating among different price ranges."
   ]
  },
  {
   "cell_type": "code",
   "execution_count": 12,
   "id": "39fe4e45",
   "metadata": {},
   "outputs": [
    {
     "data": {
      "image/png": "[encoded data removed]",
      "text/plain": [
       "<Figure size 640x480 with 1 Axes>"
      ]
     },
     "metadata": {},
     "output_type": "display_data"
    }
   ],
   "source": [
    "average_rating_by_price_range = df.groupby('Price range')['Aggregate rating'].mean()\n",
    "\n",
    "highest_rating_price_range = average_rating_by_price_range.idxmax()\n",
    "\n",
    "sns.barplot(x=average_rating_by_price_range.index, y=average_rating_by_price_range.values)\n",
    "plt.xlabel('Price range')\n",
    "plt.ylabel('Average Rating')\n",
    "plt.title('Average Rating for Each Price Range')\n",
    "\n",
    "highest_rating_index = average_rating_by_price_range.index.get_loc(highest_rating_price_range)\n",
    "plt.bar(highest_rating_index, average_rating_by_price_range[highest_rating_price_range], color='red')\n",
    "\n",
    "plt.show()"
   ]
  },
  {
   "cell_type": "markdown",
   "id": "a54d56f6",
   "metadata": {},
   "source": [
    "## Task 3- Features Engineering\n",
    "### Extract additional features from the existing columns, such as the length of the restaurant name or address."
   ]
  },
  {
   "cell_type": "code",
   "execution_count": 13,
   "id": "99566399",
   "metadata": {},
   "outputs": [
    {
     "name": "stdout",
     "output_type": "stream",
     "text": [
      "   Restaurant ID         Restaurant Name  Country Code              City   \n",
      "0        6317637        Le Petit Souffle           162       Makati City  \\\n",
      "1        6304287        Izakaya Kikufuji           162       Makati City   \n",
      "2        6300002  Heat - Edsa Shangri-La           162  Mandaluyong City   \n",
      "3        6318506                    Ooma           162  Mandaluyong City   \n",
      "4        6314302             Sambo Kojin           162  Mandaluyong City   \n",
      "\n",
      "                                             Address   \n",
      "0  Third Floor, Century City Mall, Kalayaan Avenu...  \\\n",
      "1  Little Tokyo, 2277 Chino Roces Avenue, Legaspi...   \n",
      "2  Edsa Shangri-La, 1 Garden Way, Ortigas, Mandal...   \n",
      "3  Third Floor, Mega Fashion Hall, SM Megamall, O...   \n",
      "4  Third Floor, Mega Atrium, SM Megamall, Ortigas...   \n",
      "\n",
      "                                     Locality   \n",
      "0   Century City Mall, Poblacion, Makati City  \\\n",
      "1  Little Tokyo, Legaspi Village, Makati City   \n",
      "2  Edsa Shangri-La, Ortigas, Mandaluyong City   \n",
      "3      SM Megamall, Ortigas, Mandaluyong City   \n",
      "4      SM Megamall, Ortigas, Mandaluyong City   \n",
      "\n",
      "                                    Locality Verbose   Longitude   Latitude   \n",
      "0  Century City Mall, Poblacion, Makati City, Mak...  121.027535  14.565443  \\\n",
      "1  Little Tokyo, Legaspi Village, Makati City, Ma...  121.014101  14.553708   \n",
      "2  Edsa Shangri-La, Ortigas, Mandaluyong City, Ma...  121.056831  14.581404   \n",
      "3  SM Megamall, Ortigas, Mandaluyong City, Mandal...  121.056475  14.585318   \n",
      "4  SM Megamall, Ortigas, Mandaluyong City, Mandal...  121.057508  14.584450   \n",
      "\n",
      "                           Cuisines  ...  Has Online delivery   \n",
      "0        French, Japanese, Desserts  ...                   No  \\\n",
      "1                          Japanese  ...                   No   \n",
      "2  Seafood, Asian, Filipino, Indian  ...                   No   \n",
      "3                   Japanese, Sushi  ...                   No   \n",
      "4                  Japanese, Korean  ...                   No   \n",
      "\n",
      "  Is delivering now Switch to order menu Price range Aggregate rating   \n",
      "0                No                   No           3              4.8  \\\n",
      "1                No                   No           3              4.5   \n",
      "2                No                   No           4              4.4   \n",
      "3                No                   No           4              4.9   \n",
      "4                No                   No           4              4.8   \n",
      "\n",
      "  Rating color  Rating text  Votes Name Length Address Length  \n",
      "0   Dark Green    Excellent    314          16             71  \n",
      "1   Dark Green    Excellent    591          16             67  \n",
      "2        Green    Very Good    270          22             56  \n",
      "3   Dark Green    Excellent    365           4             70  \n",
      "4   Dark Green    Excellent    229          11             64  \n",
      "\n",
      "[5 rows x 23 columns]\n"
     ]
    }
   ],
   "source": [
    "df['Name Length'] = df['Restaurant Name'].apply(lambda name: len(name))\n",
    "\n",
    "df['Address Length'] = df['Address'].apply(lambda address: len(address))\n",
    "\n",
    "print(df.head())"
   ]
  },
  {
   "cell_type": "markdown",
   "id": "88dc042c",
   "metadata": {},
   "source": [
    "### Create new features like \"Has Table Booking\" or \"Has Online Delivery\" by encoding categorical variables."
   ]
  },
  {
   "cell_type": "code",
   "execution_count": 14,
   "id": "605aab1a",
   "metadata": {},
   "outputs": [
    {
     "name": "stdout",
     "output_type": "stream",
     "text": [
      "   Restaurant ID         Restaurant Name  Country Code              City   \n",
      "0        6317637        Le Petit Souffle           162       Makati City  \\\n",
      "1        6304287        Izakaya Kikufuji           162       Makati City   \n",
      "2        6300002  Heat - Edsa Shangri-La           162  Mandaluyong City   \n",
      "3        6318506                    Ooma           162  Mandaluyong City   \n",
      "4        6314302             Sambo Kojin           162  Mandaluyong City   \n",
      "\n",
      "                                             Address   \n",
      "0  Third Floor, Century City Mall, Kalayaan Avenu...  \\\n",
      "1  Little Tokyo, 2277 Chino Roces Avenue, Legaspi...   \n",
      "2  Edsa Shangri-La, 1 Garden Way, Ortigas, Mandal...   \n",
      "3  Third Floor, Mega Fashion Hall, SM Megamall, O...   \n",
      "4  Third Floor, Mega Atrium, SM Megamall, Ortigas...   \n",
      "\n",
      "                                     Locality   \n",
      "0   Century City Mall, Poblacion, Makati City  \\\n",
      "1  Little Tokyo, Legaspi Village, Makati City   \n",
      "2  Edsa Shangri-La, Ortigas, Mandaluyong City   \n",
      "3      SM Megamall, Ortigas, Mandaluyong City   \n",
      "4      SM Megamall, Ortigas, Mandaluyong City   \n",
      "\n",
      "                                    Locality Verbose   Longitude   Latitude   \n",
      "0  Century City Mall, Poblacion, Makati City, Mak...  121.027535  14.565443  \\\n",
      "1  Little Tokyo, Legaspi Village, Makati City, Ma...  121.014101  14.553708   \n",
      "2  Edsa Shangri-La, Ortigas, Mandaluyong City, Ma...  121.056831  14.581404   \n",
      "3  SM Megamall, Ortigas, Mandaluyong City, Mandal...  121.056475  14.585318   \n",
      "4  SM Megamall, Ortigas, Mandaluyong City, Mandal...  121.057508  14.584450   \n",
      "\n",
      "                           Cuisines  ...  Aggregate rating Rating color   \n",
      "0        French, Japanese, Desserts  ...               4.8   Dark Green  \\\n",
      "1                          Japanese  ...               4.5   Dark Green   \n",
      "2  Seafood, Asian, Filipino, Indian  ...               4.4        Green   \n",
      "3                   Japanese, Sushi  ...               4.9   Dark Green   \n",
      "4                  Japanese, Korean  ...               4.8   Dark Green   \n",
      "\n",
      "  Rating text Votes  Name Length  Address Length Has Table booking_No   \n",
      "0   Excellent   314           16              71                False  \\\n",
      "1   Excellent   591           16              67                False   \n",
      "2   Very Good   270           22              56                False   \n",
      "3   Excellent   365            4              70                 True   \n",
      "4   Excellent   229           11              64                False   \n",
      "\n",
      "  Has Table booking_Yes  Has Online delivery_No  Has Online delivery_Yes  \n",
      "0                  True                    True                    False  \n",
      "1                  True                    True                    False  \n",
      "2                  True                    True                    False  \n",
      "3                 False                    True                    False  \n",
      "4                  True                    True                    False  \n",
      "\n",
      "[5 rows x 25 columns]\n"
     ]
    }
   ],
   "source": [
    "df = pd.get_dummies(df, columns=['Has Table booking', 'Has Online delivery'])\n",
    "\n",
    "print(df.head())"
   ]
  },
  {
   "cell_type": "markdown",
   "id": "a1ae23b6",
   "metadata": {},
   "source": [
    "##"
   ]
  }
 ],
 "metadata": {
  "kernelspec": {
   "display_name": "Python 3 (ipykernel)",
   "language": "python",
   "name": "python3"
  },
  "language_info": {
   "codemirror_mode": {
    "name": "ipython",
    "version": 3
   },
   "file_extension": ".py",
   "mimetype": "text/x-python",
   "name": "python",
   "nbconvert_exporter": "python",
   "pygments_lexer": "ipython3",
   "version": "3.11.3"
  }
 },
 "nbformat": 4,
 "nbformat_minor": 5
}
